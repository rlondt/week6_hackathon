{
 "cells": [
  {
   "cell_type": "code",
   "execution_count": 112,
   "metadata": {
    "collapsed": false
   },
   "outputs": [],
   "source": [
    "%matplotlib inline\n",
    "\n",
    "import numpy as np\n",
    "import pandas as pd\n",
    "\n",
    "\n",
    "# Plotting imports & settings\n",
    "import seaborn as sns\n",
    "from collections import OrderedDict\n",
    "from matplotlib import pyplot as plt\n",
    "from pylab import rcParams\n",
    "plt.style.use('ggplot')\n",
    "plt_defaults = OrderedDict((('width', 12), ('height', 6)))\n",
    "rcParams['figure.figsize'] = plt_defaults.values()\n",
    "rcParams['legend.frameon'] = True\n",
    "rcParams['legend.framealpha'] = 0.8\n",
    "rcParams['figure.titlesize'] = 'large'\n",
    "rcParams['font.size'] = 12\n",
    "rcParams['legend.fontsize'] = 12\n",
    "\n",
    "import sklearn\n",
    "from sklearn.model_selection import train_test_split\n",
    "from sklearn.ensemble import RandomForestClassifier\n",
    "from sklearn.feature_extraction import DictVectorizer\n",
    "from sklearn.externals import joblib\n"
   ]
  },
  {
   "cell_type": "code",
   "execution_count": 136,
   "metadata": {
    "collapsed": false,
    "scrolled": true
   },
   "outputs": [
    {
     "data": {
      "text/plain": [
       "['filename2.pkl']"
      ]
     },
     "execution_count": 136,
     "metadata": {},
     "output_type": "execute_result"
    }
   ],
   "source": [
    "X = pd.read_csv(\"./data/train_set.csv\")\n",
    "# for i, row in enumerate(X.columns):\n",
    "# #     if X.dtypes[row] == \"object\":\n",
    "# #         del X[row]\n",
    "#     if row != 'label' and row != 'delivery_method' and row != 'body_length' and row != 'sale_duration':\n",
    "#         del X[row]\n",
    "colls = ['delivery_method', 'body_length', 'sale_duration']\n",
    "colls = ['delivery_method', 'body_length', 'sale_duration', 'delivery_method',\n",
    "'event_published'    ,\n",
    "'gts'                ,\n",
    "'has_header'         ,\n",
    "'org_facebook'       ,\n",
    "'org_twitter'        ,\n",
    "'sale_duration'      ,\n",
    "'venue_latitude'     ,\n",
    "'venue_longitude',\n",
    "              'approx_payout_date', #   int64\n",
    "              'body_length'       , #    int64\n",
    "              'channels'          , #    int64\n",
    "              'event_created'     , #    int64\n",
    "              'event_end'         , #    int64\n",
    "              'event_start'       , #    int64\n",
    "              'fb_published'      , #    int64\n",
    "              'has_analytics'     , #    int64\n",
    "              'has_logo'          , #    int64\n",
    "              'name_length'       , #    int64\n",
    "              'num_order'         , #    int64\n",
    "              'num_payouts'       , #    int64\n",
    "              'object_id'         , #    int64\n",
    "              'sale_duration2'    , #    int64\n",
    "              'show_map'          , #    int64\n",
    "              'user_age'          , #    int64\n",
    "              'user_created'       #    int64\n",
    "              # 'duration', 'campaign', 'pdays', 'previous', 'emp.var.rate',\n",
    "    # 'cons.price.idx', 'cons.conf.idx', 'euribor3m', 'nr.employed',\n",
    "]\n",
    "for coll in colls:\n",
    "    X[coll] = X[coll].fillna(0.0)\n",
    "\n",
    "X['delivery_method'] = X.delivery_method.fillna(0.0)\n",
    "X['body_length'] = X.body_length.fillna(0.0)\n",
    "X['sale_duration'] = X.sale_duration.fillna(0.0)\n",
    "y = pd.Series(X[\"label\"])\n",
    "X = X.drop('label',axis=1)\n",
    "\n",
    "X_train, X_test, y_train, y_test = train_test_split(X, y, train_size=400, random_state=7)\n",
    "\n",
    "rf = RandomForestClassifier()\n",
    "\n",
    "rf.fit(X_train[colls], y_train)\n",
    "\n",
    "joblib.dump(rf, 'filename2.pkl')\n"
   ]
  },
  {
   "cell_type": "code",
   "execution_count": 126,
   "metadata": {
    "collapsed": false
   },
   "outputs": [
    {
     "data": {
      "text/plain": [
       "0.0"
      ]
     },
     "execution_count": 126,
     "metadata": {},
     "output_type": "execute_result"
    }
   ],
   "source": [
    "query_df = pd.DataFrame()\n",
    "query_df.loc[0,'delivery_method'] = 1.0\n",
    "query_df.loc[0,'body_length'] = 2113\n",
    "query_df.loc[0,'sale_duration'] = 16.0\n",
    "# rf.predict(query_df)\n",
    "# rf.predict_proba(query_df)\n",
    "p = rf.predict_proba(query_df[colls])[0,1]\n",
    "l = float(p>0.5)\n",
    "p"
   ]
  },
  {
   "cell_type": "code",
   "execution_count": 134,
   "metadata": {
    "collapsed": false
   },
   "outputs": [
    {
     "data": {
      "text/plain": [
       "approx_payout_date    int64\n",
       "body_length           int64\n",
       "channels              int64\n",
       "event_created         int64\n",
       "event_end             int64\n",
       "event_start           int64\n",
       "fb_published          int64\n",
       "has_analytics         int64\n",
       "has_logo              int64\n",
       "name_length           int64\n",
       "num_order             int64\n",
       "num_payouts           int64\n",
       "object_id             int64\n",
       "sale_duration2        int64\n",
       "show_map              int64\n",
       "user_age              int64\n",
       "user_created          int64\n",
       "user_type             int64\n",
       "dtype: object"
      ]
     },
     "execution_count": 134,
     "metadata": {},
     "output_type": "execute_result"
    }
   ],
   "source": [
    "X.dtypes[X.dtypes == 'int64']"
   ]
  },
  {
   "cell_type": "code",
   "execution_count": 84,
   "metadata": {
    "collapsed": true
   },
   "outputs": [],
   "source": [
    "X['delivery_method'] = X.delivery_method.fillna(0.0)"
   ]
  },
  {
   "cell_type": "code",
   "execution_count": 48,
   "metadata": {
    "collapsed": false
   },
   "outputs": [],
   "source": [
    "def encode_onehot(df, cols):\n",
    "    \"\"\"\n",
    "    One-hot encoding is applied to columns specified in a pandas DataFrame.\n",
    "    \n",
    "    Modified from: https://gist.github.com/kljensen/5452382\n",
    "    \n",
    "    Details:\n",
    "    \n",
    "    http://en.wikipedia.org/wiki/One-hot\n",
    "    http://scikit-learn.org/stable/modules/generated/sklearn.preprocessing.OneHotEncoder.html\n",
    "    \n",
    "    @param df pandas DataFrame\n",
    "    @param cols a list of columns to encode\n",
    "    @return a DataFrame with one-hot encoding\n",
    "    \"\"\"\n",
    "    vec = DictVectorizer()\n",
    "    \n",
    "#     vec_data = pd.DataFrame(vec.fit_transform(df[cols].to_dict(outtype='records')).toarray())\n",
    "    vec_data = pd.DataFrame(vec.fit_transform(df[cols].to_dict()).toarray())\n",
    "    vec_data.columns = vec.get_feature_names()\n",
    "    vec_data.index = df.index\n",
    "    \n",
    "    df = df.drop(cols, axis=1)\n",
    "    df = df.join(vec_data)\n",
    "    return df"
   ]
  }
 ],
 "metadata": {
  "anaconda-cloud": {},
  "kernelspec": {
   "display_name": "Python [default]",
   "language": "python",
   "name": "python3"
  },
  "language_info": {
   "codemirror_mode": {
    "name": "ipython",
    "version": 3
   },
   "file_extension": ".py",
   "mimetype": "text/x-python",
   "name": "python",
   "nbconvert_exporter": "python",
   "pygments_lexer": "ipython3",
   "version": "3.5.2"
  }
 },
 "nbformat": 4,
 "nbformat_minor": 1
}
